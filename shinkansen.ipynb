{
 "cells": [
  {
   "cell_type": "code",
   "execution_count": 1,
   "metadata": {},
   "outputs": [],
   "source": [
    "from plot import *\n",
    "from filter import *\n",
    "from analysis import *\n",
    "import networkx as nx\n",
    "import matplotlib.pyplot as plt"
   ]
  },
  {
   "cell_type": "code",
   "execution_count": null,
   "metadata": {},
   "outputs": [],
   "source": [
    "# Files naming\n",
    "graph_file = 'shinkansen_graph.pkl'\n",
    "graph_file_weighted = 'shinkansen_graph_weighted.pkl'\n",
    "graph_file_filtered = 'shinkansen_graph_filtered.pkl'\n",
    "# Pre-processed data\n",
    "shinkansen_join = 'data/shinkansen_join.csv'\n",
    "# Output images\n",
    "output_image = 'shinkansen_lines_weighted_visualization.png'\n",
    "output_image_filtered = 'shinkansen_lines_visualization_filtered.png'\n",
    "# Filter settings\n",
    "min_degree = 2\n",
    "top_n = 100"
   ]
  },
  {
   "cell_type": "code",
   "execution_count": null,
   "metadata": {},
   "outputs": [
    {
     "name": "stdout",
     "output_type": "stream",
     "text": [
      "Graph loaded from file\n"
     ]
    }
   ],
   "source": [
    "try:\n",
    "    G = load_graph(graph_file_weighted)\n",
    "    print('Graph loaded from file')\n",
    "except:\n",
    "    print('Graph file not found, creating graph')\n",
    "    G = create_weighted_graph_form_csv(shinkansen_join)\n",
    "    save_graph(G, graph_file)\n",
    "    print('Graph saved to file')"
   ]
  },
  {
   "cell_type": "code",
   "execution_count": 4,
   "metadata": {},
   "outputs": [
    {
     "name": "stdout",
     "output_type": "stream",
     "text": [
      "Number of nodes: 124\n",
      "Number of edges: 122\n"
     ]
    }
   ],
   "source": [
    "nodes_num = G.number_of_nodes()\n",
    "edges_num = G.number_of_edges()\n",
    "print(f'Number of nodes: {nodes_num}')\n",
    "print(f'Number of edges: {edges_num}')"
   ]
  },
  {
   "cell_type": "code",
   "execution_count": 5,
   "metadata": {},
   "outputs": [
    {
     "name": "stdout",
     "output_type": "stream",
     "text": [
      "Weighted Graph visualization saved to shinkansen_lines_weighted_visualization.png\n"
     ]
    }
   ],
   "source": [
    "# visualize_graph(G, output_image, size=15)\n",
    "# print(f'Graph visualization saved to {output_image}')\n",
    "visualize_weighted_graph(G, output_image, size=20, dpi=300, title='Shinkansen Lines', seed=21, layout='kamada')\n",
    "print(f'Weighted Graph visualization saved to {output_image}')"
   ]
  },
  {
   "cell_type": "code",
   "execution_count": null,
   "metadata": {},
   "outputs": [],
   "source": [
    "print(find_degree(G, '東京'))\n",
    "print(find_degree(G, '新大阪'))"
   ]
  },
  {
   "cell_type": "code",
   "execution_count": null,
   "metadata": {},
   "outputs": [],
   "source": [
    "print(find_all_path(G, '東京', '新大阪'))\n",
    "print(find_shortest_path(G, '東京', '新大阪'))"
   ]
  },
  {
   "cell_type": "code",
   "execution_count": null,
   "metadata": {},
   "outputs": [],
   "source": [
    "json_str = dict_to_json(find_all_communities(G))\n",
    "with open('communities.json', 'w') as f:\n",
    "    f.write(json_str)"
   ]
  },
  {
   "cell_type": "code",
   "execution_count": null,
   "metadata": {},
   "outputs": [],
   "source": [
    "print(find_smallest_community(G))\n",
    "print(find_largest_community(G))"
   ]
  }
 ],
 "metadata": {
  "kernelspec": {
   "display_name": "JapanRailwayAnalysis",
   "language": "python",
   "name": "python3"
  },
  "language_info": {
   "codemirror_mode": {
    "name": "ipython",
    "version": 3
   },
   "file_extension": ".py",
   "mimetype": "text/x-python",
   "name": "python",
   "nbconvert_exporter": "python",
   "pygments_lexer": "ipython3",
   "version": "3.12.7"
  }
 },
 "nbformat": 4,
 "nbformat_minor": 2
}
