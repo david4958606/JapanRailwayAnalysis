{
 "cells": [
  {
   "cell_type": "code",
   "execution_count": 1,
   "metadata": {},
   "outputs": [],
   "source": [
    "from plot import *\n",
    "from filter import *\n",
    "from analysis import *\n",
    "import networkx as nx\n",
    "import matplotlib.pyplot as plt"
   ]
  },
  {
   "cell_type": "code",
   "execution_count": 2,
   "metadata": {},
   "outputs": [],
   "source": [
    "# Files naming\n",
    "graph_file = 'shinkansen_graph.pkl'\n",
    "graph_file_weighted = 'shinkansen_graph_weighted.pkl'\n",
    "graph_file_filtered = 'shinkansen_graph_filtered.pkl'\n",
    "# Pre-processed data\n",
    "shinkansen_join = 'data/shinkansen_join.csv'\n",
    "# Output images\n",
    "output_image = 'shinkansen_lines_weighted_visualization.png'\n",
    "output_image_filtered = 'shinkansen_lines_visualization_filtered.png'\n",
    "# Filter settings\n",
    "min_degree = 2\n",
    "top_n = 100"
   ]
  },
  {
   "cell_type": "code",
   "execution_count": 3,
   "metadata": {},
   "outputs": [
    {
     "name": "stdout",
     "output_type": "stream",
     "text": [
      "Graph loaded from file\n"
     ]
    }
   ],
   "source": [
    "try:\n",
    "    G = load_graph(graph_file_weighted)\n",
    "    print('Graph loaded from file')\n",
    "except:\n",
    "    print('Graph file not found, creating graph')\n",
    "    G = create_weighted_graph_form_csv(shinkansen_join)\n",
    "    save_graph(G, graph_file)\n",
    "    print('Graph saved to file')"
   ]
  },
  {
   "cell_type": "code",
   "execution_count": 4,
   "metadata": {},
   "outputs": [
    {
     "name": "stdout",
     "output_type": "stream",
     "text": [
      "Number of nodes: 124\n",
      "Number of edges: 122\n"
     ]
    }
   ],
   "source": [
    "nodes_num = G.number_of_nodes()\n",
    "edges_num = G.number_of_edges()\n",
    "print(f'Number of nodes: {nodes_num}')\n",
    "print(f'Number of edges: {edges_num}')"
   ]
  },
  {
   "cell_type": "code",
   "execution_count": 6,
   "metadata": {},
   "outputs": [
    {
     "name": "stdout",
     "output_type": "stream",
     "text": [
      "Average degree: 1.967741935483871\n"
     ]
    }
   ],
   "source": [
    "# 计算平均度\n",
    "degree = []\n",
    "for node in G.nodes():\n",
    "    degree.append(G.degree(node))\n",
    "average_degree = sum(degree) / len(degree)\n",
    "print(f'Average degree: {average_degree}')\n"
   ]
  },
  {
   "cell_type": "code",
   "execution_count": 10,
   "metadata": {},
   "outputs": [
    {
     "name": "stdout",
     "output_type": "stream",
     "text": [
      "71\n"
     ]
    }
   ],
   "source": [
    "print(len(find_shortest_path(G, '鹿児島中央', '新函館北斗')))"
   ]
  },
  {
   "cell_type": "code",
   "execution_count": null,
   "metadata": {},
   "outputs": [],
   "source": [
    "# visualize_graph(G, output_image, size=15)\n",
    "# print(f'Graph visualization saved to {output_image}')\n",
    "visualize_weighted_graph(G, output_image, size=20, dpi=300, title='Shinkansen Lines', seed=21, layout='kamada')\n",
    "print(f'Weighted Graph visualization saved to {output_image}')"
   ]
  },
  {
   "cell_type": "code",
   "execution_count": null,
   "metadata": {},
   "outputs": [],
   "source": [
    "print(find_degree(G, '東京'))\n",
    "print(find_degree(G, '新大阪'))"
   ]
  },
  {
   "cell_type": "code",
   "execution_count": null,
   "metadata": {},
   "outputs": [],
   "source": [
    "print(find_all_path(G, '東京', '新大阪'))\n",
    "print(find_shortest_path(G, '東京', '新大阪'))"
   ]
  },
  {
   "cell_type": "code",
   "execution_count": null,
   "metadata": {},
   "outputs": [],
   "source": [
    "json_str = dict_to_json(find_all_communities(G))\n",
    "with open('communities.json', 'w') as f:\n",
    "    f.write(json_str)"
   ]
  },
  {
   "cell_type": "code",
   "execution_count": null,
   "metadata": {},
   "outputs": [],
   "source": [
    "print(find_smallest_community(G))\n",
    "print(find_largest_community(G))"
   ]
  },
  {
   "cell_type": "code",
   "execution_count": 18,
   "metadata": {},
   "outputs": [],
   "source": [
    "node_to_id = {node: idx for idx, node in enumerate(G.nodes)}\n",
    "id_to_node = {idx: node for node, idx in node_to_id.items()}\n",
    "from infomap import Infomap\n",
    "im = Infomap()\n",
    "for u, v, data in G.edges(data=True):\n",
    "    weight = data.get(\"weight\", 1.0)  # 提取权重\n",
    "    im.add_link(node_to_id[u], node_to_id[v], weight)\\\n",
    "\n",
    "im.run()\n",
    "modules_dict = dict(im.modules)\n",
    "community_result = {id_to_node[node_id]: module_id for node_id, module_id in modules_dict.items()}\n",
    "# 打印社区划分结果\n",
    "# print(\"社区划分结果:\")\n",
    "# for node, community in community_result.items():\n",
    "#     print(f\"节点 {node} 属于社区 {community}\")\n",
    "\n",
    "from collections import defaultdict\n",
    "community_groups = defaultdict(list)\n",
    "for node, community in community_result.items():\n",
    "    community_groups[community].append(node)\n",
    "output = {str(community): nodes for community, nodes in community_groups.items()}\n",
    "output_json = json.dumps(output, ensure_ascii=False, indent=4)\n",
    "with open('communities_infomap.json', 'w') as f:\n",
    "    f.write(output_json)\n"
   ]
  }
 ],
 "metadata": {
  "kernelspec": {
   "display_name": "JapanRailwayAnalysis",
   "language": "python",
   "name": "python3"
  },
  "language_info": {
   "codemirror_mode": {
    "name": "ipython",
    "version": 3
   },
   "file_extension": ".py",
   "mimetype": "text/x-python",
   "name": "python",
   "nbconvert_exporter": "python",
   "pygments_lexer": "ipython3",
   "version": "3.12.7"
  }
 },
 "nbformat": 4,
 "nbformat_minor": 2
}
