{
 "cells": [
  {
   "cell_type": "code",
   "execution_count": 1,
   "metadata": {},
   "outputs": [],
   "source": [
    "from plot import *\n",
    "from filter import *\n",
    "from analysis import *"
   ]
  },
  {
   "cell_type": "code",
   "execution_count": 2,
   "metadata": {},
   "outputs": [],
   "source": [
    "# Files naming\n",
    "graph_file = 'jr_graph.pkl'\n",
    "graph_file_filtered = 'jr_graph_filtered.pkl'\n",
    "# Pre-processed data\n",
    "lines_file = 'data/jr_lines_stations.json'\n",
    "lines_data = load_json(lines_file)\n",
    "# Output images\n",
    "output_image = 'jr_lines_visualization.png'\n",
    "output_image_filtered = 'jr_lines_visualization_filtered.png'\n",
    "# Filter settings\n",
    "min_degree = 2\n",
    "top_n = 1089"
   ]
  },
  {
   "cell_type": "code",
   "execution_count": 3,
   "metadata": {},
   "outputs": [
    {
     "name": "stdout",
     "output_type": "stream",
     "text": [
      "Graph loaded from file\n"
     ]
    }
   ],
   "source": [
    "try:\n",
    "    G = load_graph(graph_file)\n",
    "    print('Graph loaded from file')\n",
    "except:\n",
    "    print('Graph file not found, creating graph')\n",
    "    G = create_graph_from_line(lines_data)\n",
    "    save_graph(G, graph_file)\n",
    "    print('Graph saved to file')"
   ]
  },
  {
   "cell_type": "code",
   "execution_count": 19,
   "metadata": {},
   "outputs": [
    {
     "name": "stdout",
     "output_type": "stream",
     "text": [
      "Number of nodes: 4464\n",
      "Number of edges: 4667\n",
      "Number of nodes in filtered graph: 116\n",
      "Number of edges in filtered graph: 98\n",
      "Graph visualization saved to jr_lines_visualization_filtered.png\n"
     ]
    }
   ],
   "source": [
    "nodes_num = G.number_of_nodes()\n",
    "edges_num = G.number_of_edges()\n",
    "print(f'Number of nodes: {nodes_num}')\n",
    "print(f'Number of edges: {edges_num}')\n",
    "\n",
    "G_filtered = filter_degree(G, min_degree)\n",
    "G_filtered = filter_degree(G_filtered, 0)\n",
    "G_filtered_nodes_num = G_filtered.number_of_nodes()\n",
    "G_filtered_edges_num = G_filtered.number_of_edges()\n",
    "print(f'Number of nodes in filtered graph: {G_filtered_nodes_num}')\n",
    "print(f'Number of edges in filtered graph: {G_filtered_edges_num}')\n",
    "visualize_graph(G_filtered, output_image_filtered)\n",
    "print(f'Graph visualization saved to {output_image_filtered}')"
   ]
  },
  {
   "cell_type": "code",
   "execution_count": 20,
   "metadata": {},
   "outputs": [
    {
     "name": "stdout",
     "output_type": "stream",
     "text": [
      "Number of nodes: 4464\n",
      "Number of edges: 4667\n",
      "4\n",
      "Filtered graph created, top 1089 nodes saved to jr_graph_filtered.pkl\n",
      "Number of nodes in filtered graph: 1089\n",
      "Number of edges in filtered graph: 939\n",
      "True\n",
      "72\n"
     ]
    }
   ],
   "source": [
    "nodes_num = G.number_of_nodes()\n",
    "edges_num = G.number_of_edges()\n",
    "print(f'Number of nodes: {nodes_num}')\n",
    "print(f'Number of edges: {edges_num}')\n",
    "print(find_degree(G, '大阪'))\n",
    "\n",
    "G_filtered = filter_top_nodes(G, top_n)\n",
    "print(f'Filtered graph created, top {top_n} nodes saved to {graph_file_filtered}')\n",
    "G_filtered_nodes_num = G_filtered.number_of_nodes()\n",
    "G_filtered_edges_num = G_filtered.number_of_edges()\n",
    "print(f'Number of nodes in filtered graph: {G_filtered_nodes_num}')\n",
    "print(f'Number of edges in filtered graph: {G_filtered_edges_num}')\n",
    "print(check_node_exists(G_filtered, '大阪'))\n",
    "# print(find_shortest_path(G_filtered, '福島', '東京'))\n",
    "print(len(find_shortest_path(G_filtered, '大阪', '東京')))"
   ]
  },
  {
   "cell_type": "code",
   "execution_count": null,
   "metadata": {},
   "outputs": [
    {
     "name": "stdout",
     "output_type": "stream",
     "text": [
      "Graph visualization saved to jr_lines_visualization_filtered.png\n"
     ]
    }
   ],
   "source": [
    "# visualize_graph(G_filtered, output_image_filtered)\n",
    "# print(f'Graph visualization saved to {output_image_filtered}')"
   ]
  }
 ],
 "metadata": {
  "kernelspec": {
   "display_name": "JapanRailwayAnalysis",
   "language": "python",
   "name": "python3"
  },
  "language_info": {
   "codemirror_mode": {
    "name": "ipython",
    "version": 3
   },
   "file_extension": ".py",
   "mimetype": "text/x-python",
   "name": "python",
   "nbconvert_exporter": "python",
   "pygments_lexer": "ipython3",
   "version": "3.12.7"
  }
 },
 "nbformat": 4,
 "nbformat_minor": 2
}
